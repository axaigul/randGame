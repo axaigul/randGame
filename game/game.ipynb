{
  "cells": [
    {
      "cell_type": "markdown",
      "source": [
        "# Игра угадай число"
      ],
      "metadata": {
        "id": "3r9exRxYGUgz"
      }
    },
    {
      "cell_type": "code",
      "execution_count": 36,
      "source": [
        "from game_v2 import score_game\n",
        "from game_v2 import random_predict"
      ],
      "outputs": [],
      "metadata": {
        "id": "3pZtjHFoGUg2"
      }
    },
    {
      "cell_type": "code",
      "source": [
        "def numberPredict(number: int = 1) -> int:\n",
        "  count = 0\n",
        "  Up = 100\n",
        "  Down = 0\n",
        "\n",
        "  while True:\n",
        "    count += 1\n",
        "\n",
        "    predict_number = (Up-Down)//2 + Down\n",
        "\n",
        "    if number == predict_number:\n",
        "      break  # выход из цикла если угадали\n",
        "    elif number > predict_number:\n",
        "      Down = predict_number\n",
        "    else:\n",
        "      Up = predict_number\n",
        "\n",
        "  return count\n"
      ],
      "metadata": {
        "id": "yFK1H2K8GtSR"
      },
      "execution_count": 41,
      "outputs": []
    },
    {
      "cell_type": "code",
      "source": [
        "n = 0\n",
        "max = 0\n",
        "for i in range(100):\n",
        "  current = numberPredict(i)\n",
        "  n += current\n",
        "  if current > max:\n",
        "    max = current\n",
        "  #print(numberPredict(i))\n",
        "print(n/100)\n",
        "print(max)"
      ],
      "metadata": {
        "colab": {
          "base_uri": "https://localhost:8080/"
        },
        "id": "oBdcHiXdHyBi",
        "outputId": "f0f9cfd4-861d-4049-b545-9030823a6e5d"
      },
      "execution_count": 47,
      "outputs": [
        {
          "output_type": "stream",
          "name": "stdout",
          "text": [
            "5.8\n",
            "7\n"
          ]
        }
      ]
    },
    {
      "cell_type": "markdown",
      "source": [
        "## Угадываем рандомно"
      ],
      "metadata": {
        "id": "C_aDnDKgGUg3"
      }
    },
    {
      "cell_type": "code",
      "execution_count": 46,
      "source": [
        "#score_game(random_predict)"
      ],
      "outputs": [],
      "metadata": {
        "id": "FeYX9z2MGUg4"
      }
    },
    {
      "cell_type": "code",
      "execution_count": 45,
      "source": [
        "#score_game(numberPredict)"
      ],
      "outputs": [],
      "metadata": {
        "id": "6i7DP_x8GUg5"
      }
    },
    {
      "cell_type": "code",
      "source": [],
      "metadata": {
        "id": "VEb1jct1J5c-"
      },
      "execution_count": null,
      "outputs": []
    }
  ],
  "metadata": {
    "orig_nbformat": 4,
    "language_info": {
      "name": "python"
    },
    "colab": {
      "provenance": []
    },
    "kernelspec": {
      "name": "python3",
      "display_name": "Python 3"
    }
  },
  "nbformat": 4,
  "nbformat_minor": 0
}